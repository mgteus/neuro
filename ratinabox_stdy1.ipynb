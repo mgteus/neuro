{
 "cells": [
  {
   "cell_type": "code",
   "execution_count": 2,
   "id": "c1c24730-e907-4f4c-925d-345456001078",
   "metadata": {},
   "outputs": [],
   "source": [
    "import numpy as np\n",
    "import pandas as pd\n",
    "import random\n",
    "import os\n",
    "from rat_run import main\n",
    "\n",
    "from ratinabox.Environment import Environment\n",
    "from ratinabox.Agent import Agent"
   ]
  },
  {
   "cell_type": "code",
   "execution_count": 12,
   "id": "6701302f",
   "metadata": {},
   "outputs": [],
   "source": [
    "Env = Environment()\n",
    "Ag = Agent(Env)"
   ]
  },
  {
   "cell_type": "code",
   "execution_count": 13,
   "id": "7ef45b60",
   "metadata": {},
   "outputs": [
    {
     "data": {
      "text/plain": [
       "0.1"
      ]
     },
     "execution_count": 13,
     "metadata": {},
     "output_type": "execute_result"
    }
   ],
   "source": [
    "Ag.dt"
   ]
  },
  {
   "cell_type": "code",
   "execution_count": 2,
   "id": "8500de32-dde1-44d9-98e9-e1c2e4ec551a",
   "metadata": {},
   "outputs": [],
   "source": [
    "for root, dirs, files in os.walk('runs/15min/'):\n",
    "    size_dict = {'15min': 9000}\n",
    "    size_ = size_dict[root.split('/')[1]]\n",
    "    for file in files: \n",
    "        df_ = pd.read_parquet(os.path.join(root, file))\n",
    "        if df_.shape[0] != size_:\n",
    "            print(file)"
   ]
  },
  {
   "cell_type": "code",
   "execution_count": 25,
   "id": "221e3a43-2694-4cd8-a79c-3e2b525b3cc2",
   "metadata": {},
   "outputs": [
    {
     "data": {
      "text/plain": [
       "'0444'"
      ]
     },
     "execution_count": 25,
     "metadata": {},
     "output_type": "execute_result"
    }
   ],
   "source": [
    "f'{random.randint(0,1000):04}'"
   ]
  },
  {
   "cell_type": "code",
   "execution_count": 22,
   "id": "c665f8e0-71aa-4e1c-b67e-52c46431e4f2",
   "metadata": {},
   "outputs": [
    {
     "data": {
      "text/plain": [
       "'0.8833148789222068'"
      ]
     },
     "execution_count": 22,
     "metadata": {},
     "output_type": "execute_result"
    }
   ],
   "source": [
    "f'{random.random():4}'"
   ]
  },
  {
   "cell_type": "code",
   "execution_count": 3,
   "id": "e00e1c83-10dd-4030-879e-a407f458516a",
   "metadata": {},
   "outputs": [],
   "source": [
    "path_ = r'runs/5min/2024-06-08_10_38_23_27_run_5.gzip'\n",
    "path = r'runs/5min/2024-06-08_10_39_37_75_run_5.gzip'"
   ]
  },
  {
   "cell_type": "code",
   "execution_count": 4,
   "id": "7872cf5a-d262-4327-b7c0-e5604ba7ab08",
   "metadata": {},
   "outputs": [],
   "source": [
    "df = pd.read_parquet(path_)\n",
    "df_ = pd.read_parquet(path)"
   ]
  },
  {
   "cell_type": "code",
   "execution_count": 5,
   "id": "43a7ce90-a945-4389-ba91-4fc0fab3f842",
   "metadata": {},
   "outputs": [
    {
     "data": {
      "text/plain": [
       "<Axes: >"
      ]
     },
     "execution_count": 5,
     "metadata": {},
     "output_type": "execute_result"
    },
    {
     "data": {
      "image/png": "[encoded data removed]",
      "text/plain": [
       "<Figure size 640x480 with 1 Axes>"
      ]
     },
     "metadata": {},
     "output_type": "display_data"
    }
   ],
   "source": [
    "df['x_pos'].hist(alpha=0.4, bins=100)\n",
    "df_['x_pos'].hist(alpha=0.4, bins=100)"
   ]
  },
  {
   "cell_type": "code",
   "execution_count": 6,
   "id": "31e0d009-96ce-4da1-9a1d-b2b27a2b39d2",
   "metadata": {},
   "outputs": [
    {
     "data": {
      "text/html": [
       "<div>\n",
       "<style scoped>\n",
       "    .dataframe tbody tr th:only-of-type {\n",
       "        vertical-align: middle;\n",
       "    }\n",
       "\n",
       "    .dataframe tbody tr th {\n",
       "        vertical-align: top;\n",
       "    }\n",
       "\n",
       "    .dataframe thead th {\n",
       "        text-align: right;\n",
       "    }\n",
       "</style>\n",
       "<table border=\"1\" class=\"dataframe\">\n",
       "  <thead>\n",
       "    <tr style=\"text-align: right;\">\n",
       "      <th></th>\n",
       "      <th>t</th>\n",
       "      <th>distance_travelled</th>\n",
       "      <th>rot_vel</th>\n",
       "      <th>x_pos</th>\n",
       "      <th>y_pos</th>\n",
       "      <th>x_vel</th>\n",
       "      <th>y_vel</th>\n",
       "      <th>x_head_direction</th>\n",
       "      <th>y_head_direction</th>\n",
       "    </tr>\n",
       "  </thead>\n",
       "  <tbody>\n",
       "    <tr>\n",
       "      <th>0</th>\n",
       "      <td>0.1</td>\n",
       "      <td>0.006252</td>\n",
       "      <td>-0.739667</td>\n",
       "      <td>0.493811</td>\n",
       "      <td>0.499114</td>\n",
       "      <td>-0.061892</td>\n",
       "      <td>-0.008862</td>\n",
       "      <td>-0.986111</td>\n",
       "      <td>-0.166090</td>\n",
       "    </tr>\n",
       "    <tr>\n",
       "      <th>1</th>\n",
       "      <td>0.2</td>\n",
       "      <td>0.010327</td>\n",
       "      <td>0.915381</td>\n",
       "      <td>0.489847</td>\n",
       "      <td>0.498170</td>\n",
       "      <td>-0.039642</td>\n",
       "      <td>-0.009439</td>\n",
       "      <td>-0.977726</td>\n",
       "      <td>-0.209884</td>\n",
       "    </tr>\n",
       "    <tr>\n",
       "      <th>2</th>\n",
       "      <td>0.3</td>\n",
       "      <td>0.015660</td>\n",
       "      <td>4.754289</td>\n",
       "      <td>0.485799</td>\n",
       "      <td>0.494697</td>\n",
       "      <td>-0.040472</td>\n",
       "      <td>-0.034728</td>\n",
       "      <td>-0.855221</td>\n",
       "      <td>-0.518263</td>\n",
       "    </tr>\n",
       "    <tr>\n",
       "      <th>3</th>\n",
       "      <td>0.4</td>\n",
       "      <td>0.025782</td>\n",
       "      <td>-4.031768</td>\n",
       "      <td>0.476147</td>\n",
       "      <td>0.491648</td>\n",
       "      <td>-0.096520</td>\n",
       "      <td>-0.030493</td>\n",
       "      <td>-0.926634</td>\n",
       "      <td>-0.375966</td>\n",
       "    </tr>\n",
       "    <tr>\n",
       "      <th>4</th>\n",
       "      <td>0.5</td>\n",
       "      <td>0.033061</td>\n",
       "      <td>3.569305</td>\n",
       "      <td>0.470410</td>\n",
       "      <td>0.487168</td>\n",
       "      <td>-0.057370</td>\n",
       "      <td>-0.044795</td>\n",
       "      <td>-0.841525</td>\n",
       "      <td>-0.540218</td>\n",
       "    </tr>\n",
       "  </tbody>\n",
       "</table>\n",
       "</div>"
      ],
      "text/plain": [
       "     t  distance_travelled   rot_vel     x_pos     y_pos     x_vel     y_vel  \\\n",
       "0  0.1            0.006252 -0.739667  0.493811  0.499114 -0.061892 -0.008862   \n",
       "1  0.2            0.010327  0.915381  0.489847  0.498170 -0.039642 -0.009439   \n",
       "2  0.3            0.015660  4.754289  0.485799  0.494697 -0.040472 -0.034728   \n",
       "3  0.4            0.025782 -4.031768  0.476147  0.491648 -0.096520 -0.030493   \n",
       "4  0.5            0.033061  3.569305  0.470410  0.487168 -0.057370 -0.044795   \n",
       "\n",
       "   x_head_direction  y_head_direction  \n",
       "0         -0.986111         -0.166090  \n",
       "1         -0.977726         -0.209884  \n",
       "2         -0.855221         -0.518263  \n",
       "3         -0.926634         -0.375966  \n",
       "4         -0.841525         -0.540218  "
      ]
     },
     "execution_count": 6,
     "metadata": {},
     "output_type": "execute_result"
    }
   ],
   "source": [
    "df_.head()"
   ]
  },
  {
   "cell_type": "code",
   "execution_count": 7,
   "id": "f6e7c42f-6482-482f-b1ba-ca4fddbbd39b",
   "metadata": {},
   "outputs": [
    {
     "data": {
      "text/html": [
       "<div>\n",
       "<style scoped>\n",
       "    .dataframe tbody tr th:only-of-type {\n",
       "        vertical-align: middle;\n",
       "    }\n",
       "\n",
       "    .dataframe tbody tr th {\n",
       "        vertical-align: top;\n",
       "    }\n",
       "\n",
       "    .dataframe thead th {\n",
       "        text-align: right;\n",
       "    }\n",
       "</style>\n",
       "<table border=\"1\" class=\"dataframe\">\n",
       "  <thead>\n",
       "    <tr style=\"text-align: right;\">\n",
       "      <th></th>\n",
       "      <th>t</th>\n",
       "      <th>distance_travelled</th>\n",
       "      <th>rot_vel</th>\n",
       "      <th>x_pos</th>\n",
       "      <th>y_pos</th>\n",
       "      <th>x_vel</th>\n",
       "      <th>y_vel</th>\n",
       "      <th>x_head_direction</th>\n",
       "      <th>y_head_direction</th>\n",
       "    </tr>\n",
       "  </thead>\n",
       "  <tbody>\n",
       "    <tr>\n",
       "      <th>0</th>\n",
       "      <td>0.1</td>\n",
       "      <td>0.007216</td>\n",
       "      <td>0.148209</td>\n",
       "      <td>0.494414</td>\n",
       "      <td>0.504568</td>\n",
       "      <td>-0.055858</td>\n",
       "      <td>0.045681</td>\n",
       "      <td>-0.770966</td>\n",
       "      <td>0.636876</td>\n",
       "    </tr>\n",
       "    <tr>\n",
       "      <th>1</th>\n",
       "      <td>0.2</td>\n",
       "      <td>0.016459</td>\n",
       "      <td>0.002583</td>\n",
       "      <td>0.487258</td>\n",
       "      <td>0.510417</td>\n",
       "      <td>-0.071564</td>\n",
       "      <td>0.058494</td>\n",
       "      <td>-0.773168</td>\n",
       "      <td>0.634201</td>\n",
       "    </tr>\n",
       "    <tr>\n",
       "      <th>2</th>\n",
       "      <td>0.3</td>\n",
       "      <td>0.026947</td>\n",
       "      <td>-4.940911</td>\n",
       "      <td>0.483256</td>\n",
       "      <td>0.520112</td>\n",
       "      <td>-0.040016</td>\n",
       "      <td>0.096945</td>\n",
       "      <td>-0.526161</td>\n",
       "      <td>0.850385</td>\n",
       "    </tr>\n",
       "    <tr>\n",
       "      <th>3</th>\n",
       "      <td>0.4</td>\n",
       "      <td>0.035706</td>\n",
       "      <td>1.573113</td>\n",
       "      <td>0.478687</td>\n",
       "      <td>0.527585</td>\n",
       "      <td>-0.045693</td>\n",
       "      <td>0.074732</td>\n",
       "      <td>-0.523151</td>\n",
       "      <td>0.852240</td>\n",
       "    </tr>\n",
       "    <tr>\n",
       "      <th>4</th>\n",
       "      <td>0.5</td>\n",
       "      <td>0.046222</td>\n",
       "      <td>0.564529</td>\n",
       "      <td>0.472704</td>\n",
       "      <td>0.536233</td>\n",
       "      <td>-0.059829</td>\n",
       "      <td>0.086478</td>\n",
       "      <td>-0.553867</td>\n",
       "      <td>0.832605</td>\n",
       "    </tr>\n",
       "  </tbody>\n",
       "</table>\n",
       "</div>"
      ],
      "text/plain": [
       "     t  distance_travelled   rot_vel     x_pos     y_pos     x_vel     y_vel  \\\n",
       "0  0.1            0.007216  0.148209  0.494414  0.504568 -0.055858  0.045681   \n",
       "1  0.2            0.016459  0.002583  0.487258  0.510417 -0.071564  0.058494   \n",
       "2  0.3            0.026947 -4.940911  0.483256  0.520112 -0.040016  0.096945   \n",
       "3  0.4            0.035706  1.573113  0.478687  0.527585 -0.045693  0.074732   \n",
       "4  0.5            0.046222  0.564529  0.472704  0.536233 -0.059829  0.086478   \n",
       "\n",
       "   x_head_direction  y_head_direction  \n",
       "0         -0.770966          0.636876  \n",
       "1         -0.773168          0.634201  \n",
       "2         -0.526161          0.850385  \n",
       "3         -0.523151          0.852240  \n",
       "4         -0.553867          0.832605  "
      ]
     },
     "execution_count": 7,
     "metadata": {},
     "output_type": "execute_result"
    }
   ],
   "source": [
    "df.head()"
   ]
  },
  {
   "cell_type": "code",
   "execution_count": 33,
   "id": "38ec30b1-b926-4e86-a401-b3e1dc5745e5",
   "metadata": {},
   "outputs": [
    {
     "data": {
      "text/plain": [
       "3000"
      ]
     },
     "execution_count": 33,
     "metadata": {},
     "output_type": "execute_result"
    }
   ],
   "source": [
    "x_pos_values = df['x_pos'].values\n",
    "y_pos_values = df['y_pos'].values\n",
    "x_vel_values = df['x_vel'].values\n",
    "y_vel_values = df['y_vel'].values\n",
    "x_head_direction_values = df['x_head_direction'].values\n",
    "y_head_direction_values = df['y_head_direction'].values\n",
    "len(x_pos_values)"
   ]
  },
  {
   "cell_type": "code",
   "execution_count": 20,
   "id": "90ff9903-3300-477e-a528-47565eb55a8e",
   "metadata": {},
   "outputs": [
    {
     "data": {
      "text/plain": [
       "300"
      ]
     },
     "execution_count": 20,
     "metadata": {},
     "output_type": "execute_result"
    }
   ],
   "source": [
    "len(x_pos_values)//10"
   ]
  },
  {
   "cell_type": "code",
   "execution_count": 30,
   "id": "c1273336",
   "metadata": {},
   "outputs": [],
   "source": [
    "step_size = 10"
   ]
  },
  {
   "cell_type": "code",
   "execution_count": 34,
   "id": "20a4f809",
   "metadata": {},
   "outputs": [],
   "source": [
    "x_pos_values_dataset = []\n",
    "y_pos_values_dataset = []\n",
    "x_vel_values_dataset = []\n",
    "y_vel_values_dataset = []\n",
    "x_head_direction_values_dataset = []\n",
    "y_head_direction_values_dataset = []\n",
    "\n",
    "for i in range(len(x_pos_values)//step_size):\n",
    "    # pos\n",
    "    x_pos_values_dataset.append(x_pos_values[i:i+step_size])\n",
    "    y_pos_values_dataset.append(y_pos_values[i:i+step_size])\n",
    "    # vel\n",
    "    x_vel_values_dataset.append(x_vel_values[i:i+step_size])\n",
    "    y_vel_values_dataset.append(y_vel_values[i:i+step_size])\n",
    "    # head_direction\n",
    "    x_head_direction_values_dataset.append(x_head_direction_values[i:i+step_size])\n",
    "    y_head_direction_values_dataset.append(y_head_direction_values[i:i+step_size])\n",
    "\n"
   ]
  },
  {
   "cell_type": "code",
   "execution_count": 35,
   "id": "3e9cfe68",
   "metadata": {},
   "outputs": [
    {
     "name": "stdout",
     "output_type": "stream",
     "text": [
      "x_pos_values_dataset = 300\n",
      "y_pos_values_dataset = 300\n",
      "x_vel_values_dataset = 300\n",
      "y_vel_values_dataset = 300\n",
      "x_head_direction_values_dataset = 300\n",
      "y_head_direction_values_dataset = 300\n"
     ]
    }
   ],
   "source": [
    "print(f\"x_pos_values_dataset = {len(x_pos_values_dataset)}\")\n",
    "print(f\"y_pos_values_dataset = {len(y_pos_values_dataset)}\")\n",
    "print(f\"x_vel_values_dataset = {len(x_vel_values_dataset)}\")\n",
    "print(f\"y_vel_values_dataset = {len(y_vel_values_dataset)}\")\n",
    "print(f\"x_head_direction_values_dataset = {len(x_head_direction_values_dataset)}\")\n",
    "print(f\"y_head_direction_values_dataset = {len(y_head_direction_values_dataset)}\")"
   ]
  },
  {
   "cell_type": "code",
   "execution_count": null,
   "id": "27af58f6",
   "metadata": {},
   "outputs": [],
   "source": [
    "train_dataset_y = []\n",
    "train_dataset_x = []\n",
    "target_dataset_y = []\n",
    "target_dataset_x = []"
   ]
  },
  {
   "cell_type": "code",
   "execution_count": null,
   "id": "f10cccff",
   "metadata": {},
   "outputs": [],
   "source": []
  },
  {
   "cell_type": "code",
   "execution_count": null,
   "id": "48935725",
   "metadata": {},
   "outputs": [],
   "source": []
  },
  {
   "cell_type": "code",
   "execution_count": null,
   "id": "4978d958",
   "metadata": {},
   "outputs": [],
   "source": []
  }
 ],
 "metadata": {
  "kernelspec": {
   "display_name": ".neuro",
   "language": "python",
   "name": "python3"
  },
  "language_info": {
   "codemirror_mode": {
    "name": "ipython",
    "version": 3
   },
   "file_extension": ".py",
   "mimetype": "text/x-python",
   "name": "python",
   "nbconvert_exporter": "python",
   "pygments_lexer": "ipython3",
   "version": "3.10.9"
  }
 },
 "nbformat": 4,
 "nbformat_minor": 5
}
