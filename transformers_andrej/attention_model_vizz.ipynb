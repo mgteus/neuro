{
 "cells": [
  {
   "cell_type": "code",
   "execution_count": 1,
   "metadata": {},
   "outputs": [
    {
     "data": {
      "text/plain": [
       "'/home/mgteus/workspace/neuro/transformers_andrej'"
      ]
     },
     "execution_count": 1,
     "metadata": {},
     "output_type": "execute_result"
    }
   ],
   "source": [
    "import torch\n",
    "import torch.nn as nn\n",
    "import numpy as np\n",
    "import pandas as pd\n",
    "import os \n",
    "import matplotlib.pyplot as plt\n",
    "from datetime import datetime\n",
    "# import seaborn as sns\n",
    "\n",
    "os.getcwd()"
   ]
  },
  {
   "cell_type": "code",
   "execution_count": 2,
   "metadata": {},
   "outputs": [],
   "source": [
    "from attention_model import Head, get_batch1d, get_batch2d, RMSELoss, MultiHeadAttention, get_dataloader, PositionEncoding, Transformers"
   ]
  },
  {
   "cell_type": "code",
   "execution_count": 3,
   "metadata": {},
   "outputs": [],
   "source": [
    "# from torchtune.modules import RotaryPositionalEmbeddings"
   ]
  },
  {
   "cell_type": "code",
   "execution_count": 4,
   "metadata": {},
   "outputs": [
    {
     "data": {
      "text/plain": [
       "0.5138247586108281"
      ]
     },
     "execution_count": 4,
     "metadata": {},
     "output_type": "execute_result"
    }
   ],
   "source": [
    "np.random.random()"
   ]
  },
  {
   "cell_type": "code",
   "execution_count": 27,
   "metadata": {},
   "outputs": [],
   "source": [
    "CONTEXT_LEN = 128\n",
    "BATCH_SIZE = 2028\n",
    "DROPOUT = 0.1\n",
    "LEARNING_RATE = 1e-4\n",
    "NUM_HEADS = 2\n",
    "HEAD_SIZE = 1\n",
    "NUM_EPOCHS = 1e4\n",
    "NUM_BLOCKS = 2\n",
    "DEVICE = 'cuda' if torch.cuda.is_available() else 'cpu'"
   ]
  },
  {
   "cell_type": "code",
   "execution_count": 28,
   "metadata": {},
   "outputs": [
    {
     "data": {
      "text/plain": [
       "('cuda', 10000.0)"
      ]
     },
     "execution_count": 28,
     "metadata": {},
     "output_type": "execute_result"
    }
   ],
   "source": [
    "DEVICE, NUM_EPOCHS"
   ]
  },
  {
   "cell_type": "code",
   "execution_count": 29,
   "metadata": {},
   "outputs": [],
   "source": [
    "model = Transformers(num_blocks=NUM_BLOCKS,\n",
    "                        num_heads = NUM_HEADS\n",
    "            , context_len = CONTEXT_LEN\n",
    "            , batch_size = BATCH_SIZE\n",
    "            , dropout = DROPOUT\n",
    "            , head_output_dim=HEAD_SIZE)\n",
    "\n",
    "model = model.to(DEVICE)\n",
    "optimizer = torch.optim.Adam(model.parameters(), lr=LEARNING_RATE)"
   ]
  },
  {
   "cell_type": "code",
   "execution_count": 30,
   "metadata": {},
   "outputs": [],
   "source": [
    "# Criar o DataLoader\n",
    "dataloader = get_dataloader(split='train', batch_size=BATCH_SIZE, context_len=CONTEXT_LEN, device=DEVICE)"
   ]
  },
  {
   "cell_type": "code",
   "execution_count": 31,
   "metadata": {},
   "outputs": [
    {
     "name": "stdout",
     "output_type": "stream",
     "text": [
      "starting training 2024-12-01 11:09:20.621814\n",
      "iter. 0 - loss = 0.575941 2024-12-01 11:09:21.152609\n",
      "iter. 1000 - loss = 0.283766 2024-12-01 11:10:15.079317\n",
      "iter. 2000 - loss = 0.201557 2024-12-01 11:11:44.811907\n",
      "iter. 3000 - loss = 0.144704 2024-12-01 11:13:17.528256\n",
      "iter. 4000 - loss = 0.102642 2024-12-01 11:14:53.669095\n",
      "iter. 5000 - loss = 0.069817 2024-12-01 11:16:29.726001\n",
      "iter. 6000 - loss = 0.041391 2024-12-01 11:18:05.753780\n",
      "iter. 7000 - loss = 0.012656 2024-12-01 11:19:42.802107\n",
      "iter. 8000 - loss = 0.008499 2024-12-01 11:21:14.895663\n",
      "iter. 9000 - loss = 0.008473 2024-12-01 11:22:51.320116\n",
      "iter. 10000 - loss = 0.008465 2024-12-01 11:24:25.173080\n",
      "end train 2024-12-01 11:24:28.262071\n"
     ]
    }
   ],
   "source": [
    "loss_list = []\n",
    "epoch = 0\n",
    "print('starting training', datetime.now())\n",
    "for xb, yb in dataloader:\n",
    "    while epoch <= NUM_EPOCHS:\n",
    "        # xb, yb = get_batch2d(context_len=CONTEXT_LEN, batch_size=BATCH_SIZE, split='train', device=DEVICE)\n",
    "        optimizer.zero_grad(set_to_none=True)\n",
    "        predictions = model(xb)\n",
    "        predictions = predictions.to(DEVICE)\n",
    "        # print(predictions.shape)\n",
    "        loss = RMSELoss(predictions.view(BATCH_SIZE*CONTEXT_LEN, NUM_HEADS), yb.view(BATCH_SIZE*CONTEXT_LEN, NUM_HEADS))\n",
    "        # print(loss)\n",
    "        loss.backward()\n",
    "        optimizer.step()\n",
    "        loss_list.append(loss.cpu().detach().numpy())\n",
    "        if epoch%(NUM_EPOCHS/10)==0:\n",
    "            print(f\"iter. {epoch} - loss = {loss.item():4f}\", datetime.now())\n",
    "        epoch+=1\n",
    "print('end train', datetime.now())"
   ]
  },
  {
   "cell_type": "code",
   "execution_count": 34,
   "metadata": {},
   "outputs": [
    {
     "data": {
      "text/plain": [
       "array(0.00846514, dtype=float32)"
      ]
     },
     "execution_count": 34,
     "metadata": {},
     "output_type": "execute_result"
    }
   ],
   "source": [
    "loss.cpu().detach().numpy()"
   ]
  },
  {
   "cell_type": "code",
   "execution_count": 35,
   "metadata": {},
   "outputs": [
    {
     "data": {
      "image/png": "[encoded data removed]",
      "text/plain": [
       "<Figure size 1400x400 with 1 Axes>"
      ]
     },
     "metadata": {},
     "output_type": "display_data"
    }
   ],
   "source": [
    "fig, ax = plt.subplots(figsize=(14,4))\n",
    "plt.plot(loss_list)\n",
    "plt.title('Loss vs Epoch')\n",
    "plt.ylabel('Loss')\n",
    "plt.xlabel('Epoch')\n",
    "plt.show()"
   ]
  },
  {
   "cell_type": "code",
   "execution_count": 36,
   "metadata": {},
   "outputs": [
    {
     "data": {
      "text/plain": [
       "0.12898964"
      ]
     },
     "execution_count": 36,
     "metadata": {},
     "output_type": "execute_result"
    }
   ],
   "source": [
    "np.std(loss_list)"
   ]
  },
  {
   "cell_type": "code",
   "execution_count": 37,
   "metadata": {},
   "outputs": [],
   "source": [
    "# Criar o DataLoader\n",
    "dataloader_test = get_dataloader(split='test', batch_size=BATCH_SIZE, context_len=CONTEXT_LEN, device=DEVICE)"
   ]
  },
  {
   "cell_type": "code",
   "execution_count": 38,
   "metadata": {},
   "outputs": [],
   "source": [
    "for txb, tyb in dataloader_test:\n",
    "    break"
   ]
  },
  {
   "cell_type": "code",
   "execution_count": 39,
   "metadata": {},
   "outputs": [
    {
     "data": {
      "text/plain": [
       "(torch.Size([2028, 128, 2]), torch.Size([2028, 128, 2]))"
      ]
     },
     "execution_count": 39,
     "metadata": {},
     "output_type": "execute_result"
    }
   ],
   "source": [
    "txb.shape, tyb.shape"
   ]
  },
  {
   "cell_type": "code",
   "execution_count": 40,
   "metadata": {},
   "outputs": [],
   "source": [
    "tpredb = model(txb)"
   ]
  },
  {
   "cell_type": "code",
   "execution_count": 58,
   "metadata": {},
   "outputs": [
    {
     "data": {
      "text/plain": [
       "((2028, 128, 2), (2028, 128, 2), (2028, 128, 2))"
      ]
     },
     "execution_count": 58,
     "metadata": {},
     "output_type": "execute_result"
    }
   ],
   "source": [
    "tpred = model(txb).cpu().detach().numpy()\n",
    "ty = tyb.cpu().detach().numpy()\n",
    "tx = txb.cpu().detach().numpy()\n",
    "tpred.shape, ty.shape, tx.shape"
   ]
  },
  {
   "cell_type": "code",
   "execution_count": 42,
   "metadata": {},
   "outputs": [
    {
     "data": {
      "text/plain": [
       "array([[0.40825537, 0.6210186 ],\n",
       "       [0.4154797 , 0.6108196 ],\n",
       "       [0.4197388 , 0.6076578 ]], dtype=float32)"
      ]
     },
     "execution_count": 42,
     "metadata": {},
     "output_type": "execute_result"
    }
   ],
   "source": [
    "tx[0, 0:3, :]"
   ]
  },
  {
   "cell_type": "code",
   "execution_count": 67,
   "metadata": {},
   "outputs": [
    {
     "data": {
      "text/plain": [
       "array([[0.409377  , 0.61969936],\n",
       "       [0.4136969 , 0.6104996 ],\n",
       "       [0.41672266, 0.60829824],\n",
       "       [0.42141637, 0.60437745]], dtype=float32)"
      ]
     },
     "execution_count": 67,
     "metadata": {},
     "output_type": "execute_result"
    }
   ],
   "source": [
    "tpred[0, 0:4,:]"
   ]
  },
  {
   "cell_type": "code",
   "execution_count": 56,
   "metadata": {},
   "outputs": [
    {
     "data": {
      "text/plain": [
       "array([0.41672266, 0.60829824], dtype=float32)"
      ]
     },
     "execution_count": 56,
     "metadata": {},
     "output_type": "execute_result"
    }
   ],
   "source": [
    "tpred[0, 2,:]"
   ]
  },
  {
   "cell_type": "code",
   "execution_count": 65,
   "metadata": {},
   "outputs": [
    {
     "data": {
      "text/plain": [
       "array([0.42392227, 0.60330725], dtype=float32)"
      ]
     },
     "execution_count": 65,
     "metadata": {},
     "output_type": "execute_result"
    }
   ],
   "source": [
    "ty[0,2,:]"
   ]
  },
  {
   "cell_type": "code",
   "execution_count": 74,
   "metadata": {},
   "outputs": [
    {
     "name": "stdout",
     "output_type": "stream",
     "text": [
      "[0.40937704 0.61969936]\n",
      "[0.41666445 0.6094613 ]\n",
      "[0.4209524 0.6062884]\n"
     ]
    }
   ],
   "source": [
    "for i in range(1,4):\n",
    "    print(model(txb[0:1,0:i,:])[0,-1,:].cpu().detach().numpy())"
   ]
  },
  {
   "cell_type": "code",
   "execution_count": 52,
   "metadata": {},
   "outputs": [
    {
     "data": {
      "text/plain": [
       "8"
      ]
     },
     "execution_count": 52,
     "metadata": {},
     "output_type": "execute_result"
    }
   ],
   "source": [
    "CONTEXT_LEN//16"
   ]
  },
  {
   "cell_type": "code",
   "execution_count": 93,
   "metadata": {},
   "outputs": [],
   "source": [
    "for i in range(1, CONTEXT_LEN):\n",
    "    plt.title(f'Plot Batch 0 | step {i:03d}')\n",
    "    plt.scatter(tx[0,0:i, 0], tx[0,0:i, 1],  label='Context', c=[color for color in range(len(tx[0,0:i, 0]))], alpha=0.4, marker='^')\n",
    "    model_prediction = model(txb[0:1,0:i,:])[0,-1,:].cpu().detach().numpy()\n",
    "    plt.scatter(model_prediction[0], model_prediction[1], label='prediction', c='r')\n",
    "    plt.scatter(ty[0, i-1:i,0], ty[0, i-1:i,1], label='True', c='k', marker='^')\n",
    "    plt.legend()\n",
    "    plt.xlabel('X')\n",
    "    plt.ylabel('Y')\n",
    "    plt.colorbar(label='% context steps')\n",
    "    plt.ylim(0, 1)\n",
    "    plt.xlim(0,1)\n",
    "    plt.savefig(f'/home/mgteus/workspace/neuro/transformers_andrej/plots/gifs/step{i:03d}_fix.png', format='png')\n",
    "    plt.close()\n",
    "\n",
    "    # plt.show()"
   ]
  },
  {
   "cell_type": "code",
   "execution_count": 95,
   "metadata": {},
   "outputs": [],
   "source": [
    "import glob\n",
    "import os\n",
    "from PIL import Image\n",
    "\n",
    "\n",
    "# filepaths\n",
    "\n",
    "fp_in =  f'/home/mgteus/workspace/neuro/transformers_andrej/plots/gifs/**_fix.png'\n",
    "fp_out =  f'/home/mgteus/workspace/neuro/transformers_andrej/plots/test_run_fix_20s.gif'\n",
    "\n",
    "# https://pillow.readthedocs.io/en/stable/handbook/image-file-formats.html#gif\n",
    "img, *imgs = [Image.open(f) for f in sorted(glob.glob(fp_in))]\n",
    "img.save(fp=fp_out, format='GIF', append_images=imgs,\n",
    "         save_all=True, duration=200, loop=0)"
   ]
  },
  {
   "cell_type": "code",
   "execution_count": null,
   "metadata": {},
   "outputs": [],
   "source": []
  },
  {
   "cell_type": "code",
   "execution_count": 9,
   "metadata": {},
   "outputs": [],
   "source": [
    "key_weight = model.key.weight.detach().numpy()\n",
    "query_weight = model.query.weight.detach().numpy()\n",
    "values_weight = model.values.weight.detach().numpy()"
   ]
  },
  {
   "cell_type": "code",
   "execution_count": null,
   "metadata": {},
   "outputs": [],
   "source": [
    "fig, ax = plt.subplots(1, 3, figsize=(16, 4))\n",
    "\n",
    "sns.heatmap(key_weight, cmap='viridis', ax=ax[0])\n",
    "ax[0].set_title('Key Weights')\n",
    "\n",
    "sns.heatmap(query_weight, cmap='viridis', ax=ax[1])\n",
    "ax[1].set_title('Query Weights')\n",
    "\n",
    "sns.heatmap(values_weight, cmap='viridis', ax=ax[2])\n",
    "ax[2].set_title('Values Weights')\n",
    "plt.show()"
   ]
  },
  {
   "cell_type": "code",
   "execution_count": null,
   "metadata": {},
   "outputs": [],
   "source": []
  }
 ],
 "metadata": {
  "kernelspec": {
   "display_name": ".neuro",
   "language": "python",
   "name": "python3"
  },
  "language_info": {
   "codemirror_mode": {
    "name": "ipython",
    "version": 3
   },
   "file_extension": ".py",
   "mimetype": "text/x-python",
   "name": "python",
   "nbconvert_exporter": "python",
   "pygments_lexer": "ipython3",
   "version": "3.8.10"
  }
 },
 "nbformat": 4,
 "nbformat_minor": 2
}
